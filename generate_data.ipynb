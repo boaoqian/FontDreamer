{
 "cells": [
  {
   "cell_type": "code",
   "id": "initial_id",
   "metadata": {
    "collapsed": true,
    "ExecuteTime": {
     "end_time": "2025-04-06T12:00:35.986691Z",
     "start_time": "2025-04-06T12:00:35.006388Z"
    }
   },
   "source": [
    "import os\n",
    "import random\n",
    "from PIL import Image, ImageDraw, ImageFont\n",
    "from torch.utils.data import Dataset, DataLoader\n",
    "\n",
    "class FontsDataset(Dataset):\n",
    "    def __init__(self, fonts_root, characters_set_path, img_size):\n",
    "        self.fonts_path = find_fonts(fonts_root)\n",
    "        self.characters_set = load_characters_set(characters_set_path)\n",
    "        self.img_size = img_size\n",
    "        self.size = len(self.fonts_path) * len(self.characters_set)\n",
    "        self.sample_num = len(self.characters_set)\n",
    "        self.fonts_random_step = len(self.fonts_path) -1\n",
    "        self.char_random_step = self.sample_num -1\n",
    "\n",
    "\n",
    "    def draw_char(self, font_path, char):\n",
    "        img = Image.new(\"L\", self.img_size, color=\"white\")\n",
    "        draw = ImageDraw.Draw(img)\n",
    "        font = ImageFont.truetype(font_path, self.img_size[1]/1.2)\n",
    "        # center\n",
    "        _,_,w,h = font.getbbox(char)\n",
    "        draw.text(((self.img_size[0]-w)//2,(self.img_size[1]-h)//2), char, font=font, fill=\"black\")\n",
    "        return img\n",
    "\n",
    "    def __len__(self):\n",
    "        return self.size\n",
    "\n",
    "    def __getitem__(self, idx):\n",
    "        font_id, char_id = divmod(idx, self.sample_num)\n",
    "        char = self.characters_set[char_id]\n",
    "        pos_char = self.characters_set[random.randint(font_id+1, self.char_random_step+font_id)%self.sample_num]\n",
    "        neg_font_id = random.randint(1, self.fonts_random_step)\n",
    "        neg_char = self.characters_set[random.randint(0,self.char_random_step)]\n",
    "        anchor = self.draw_char(self.fonts_path[font_id], char)\n",
    "        pos = self.draw_char(self.fonts_path[font_id], pos_char)\n",
    "        neg = self.draw_char(self.fonts_path[neg_font_id], neg_char)\n",
    "        return anchor, pos, neg\n",
    "\n",
    "def find_fonts(directory, extensions=('.ttf', '.otf', '.ttc')):\n",
    "    font_files = []\n",
    "    for root, _, files in os.walk(directory):\n",
    "        for file in files:\n",
    "            if file.lower().endswith(extensions):\n",
    "                font_files.append(os.path.join(root, file))\n",
    "    return font_files\n",
    "\n",
    "def load_characters_set(path):\n",
    "    with open(path, 'r') as f:\n",
    "        characters = f.read().replace(\"\\n\",\"\")\n",
    "        characters = list(characters)\n",
    "    return characters"
   ],
   "outputs": [],
   "execution_count": 1
  },
  {
   "metadata": {
    "ExecuteTime": {
     "end_time": "2025-04-06T12:00:36.904089Z",
     "start_time": "2025-04-06T12:00:36.001607Z"
    }
   },
   "cell_type": "code",
   "source": [
    "from torchvision.utils import make_grid\n",
    "from torchvision import transforms\n",
    "import matplotlib.pyplot as plt\n",
    "import torch\n",
    "fonts_root = \"/home/qba/Data/Project/DeepLearning/FontDream/data/font/中文\"\n",
    "char_set_path = \"/home/qba/Data/Project/DeepLearning/FontDream/data/common-char-level-1.txt\""
   ],
   "id": "6d08cdb81f9ec122",
   "outputs": [],
   "execution_count": 2
  },
  {
   "metadata": {
    "ExecuteTime": {
     "end_time": "2025-04-06T12:00:36.941550Z",
     "start_time": "2025-04-06T12:00:36.937924Z"
    }
   },
   "cell_type": "code",
   "source": [
    "transformer = transforms.Compose([transforms.ToTensor()])\n",
    "\n",
    "def collate_fn(batch): \n",
    "    anchor, pos, neg = zip(*batch)\n",
    "    anchor = torch.stack([transformer(img) for img in anchor])\n",
    "    pos = torch.stack([transformer(img) for img in pos])\n",
    "    neg = torch.stack([transformer(img) for img in neg])\n",
    "    return anchor, pos, neg\n",
    "\n",
    "data = FontsDataset(fonts_root, char_set_path, (64, 64))\n",
    "datalader = DataLoader(data, batch_size=16, shuffle=True, collate_fn=collate_fn, pin_memory=False)\n"
   ],
   "id": "b0cdd4dfbf1ed1ea",
   "outputs": [],
   "execution_count": 3
  },
  {
   "metadata": {
    "ExecuteTime": {
     "end_time": "2025-04-06T12:00:44.753468Z",
     "start_time": "2025-04-06T12:00:44.522828Z"
    }
   },
   "cell_type": "code",
   "source": [
    "anchor, pos, neg = next(iter(datalader))\n",
    "img = torch.cat([anchor, pos, neg], dim=-1)\n",
    "print(img.shape)\n",
    "plt.figure(figsize=(5, 30),dpi=100)\n",
    "plt.imshow(make_grid(img, nrow=1).permute(1, 2, 0))"
   ],
   "id": "7baec0a37c8e3b07",
   "outputs": [
    {
     "ename": "OSError",
     "evalue": "stack overflow",
     "output_type": "error",
     "traceback": [
      "\u001B[0;31m---------------------------------------------------------------------------\u001B[0m",
      "\u001B[0;31mOSError\u001B[0m                                   Traceback (most recent call last)",
      "Cell \u001B[0;32mIn[12], line 1\u001B[0m\n\u001B[0;32m----> 1\u001B[0m anchor, pos, neg \u001B[38;5;241m=\u001B[39m \u001B[38;5;28mnext\u001B[39m(\u001B[38;5;28miter\u001B[39m(datalader))\n\u001B[1;32m      2\u001B[0m img \u001B[38;5;241m=\u001B[39m torch\u001B[38;5;241m.\u001B[39mcat([anchor, pos, neg], dim\u001B[38;5;241m=\u001B[39m\u001B[38;5;241m-\u001B[39m\u001B[38;5;241m1\u001B[39m)\n\u001B[1;32m      3\u001B[0m \u001B[38;5;28mprint\u001B[39m(img\u001B[38;5;241m.\u001B[39mshape)\n",
      "File \u001B[0;32m~/anaconda/envs/dl/lib/python3.11/site-packages/torch/utils/data/dataloader.py:701\u001B[0m, in \u001B[0;36m_BaseDataLoaderIter.__next__\u001B[0;34m(self)\u001B[0m\n\u001B[1;32m    698\u001B[0m \u001B[38;5;28;01mif\u001B[39;00m \u001B[38;5;28mself\u001B[39m\u001B[38;5;241m.\u001B[39m_sampler_iter \u001B[38;5;129;01mis\u001B[39;00m \u001B[38;5;28;01mNone\u001B[39;00m:\n\u001B[1;32m    699\u001B[0m     \u001B[38;5;66;03m# TODO(https://github.com/pytorch/pytorch/issues/76750)\u001B[39;00m\n\u001B[1;32m    700\u001B[0m     \u001B[38;5;28mself\u001B[39m\u001B[38;5;241m.\u001B[39m_reset()  \u001B[38;5;66;03m# type: ignore[call-arg]\u001B[39;00m\n\u001B[0;32m--> 701\u001B[0m data \u001B[38;5;241m=\u001B[39m \u001B[38;5;28mself\u001B[39m\u001B[38;5;241m.\u001B[39m_next_data()\n\u001B[1;32m    702\u001B[0m \u001B[38;5;28mself\u001B[39m\u001B[38;5;241m.\u001B[39m_num_yielded \u001B[38;5;241m+\u001B[39m\u001B[38;5;241m=\u001B[39m \u001B[38;5;241m1\u001B[39m\n\u001B[1;32m    703\u001B[0m \u001B[38;5;28;01mif\u001B[39;00m (\n\u001B[1;32m    704\u001B[0m     \u001B[38;5;28mself\u001B[39m\u001B[38;5;241m.\u001B[39m_dataset_kind \u001B[38;5;241m==\u001B[39m _DatasetKind\u001B[38;5;241m.\u001B[39mIterable\n\u001B[1;32m    705\u001B[0m     \u001B[38;5;129;01mand\u001B[39;00m \u001B[38;5;28mself\u001B[39m\u001B[38;5;241m.\u001B[39m_IterableDataset_len_called \u001B[38;5;129;01mis\u001B[39;00m \u001B[38;5;129;01mnot\u001B[39;00m \u001B[38;5;28;01mNone\u001B[39;00m\n\u001B[1;32m    706\u001B[0m     \u001B[38;5;129;01mand\u001B[39;00m \u001B[38;5;28mself\u001B[39m\u001B[38;5;241m.\u001B[39m_num_yielded \u001B[38;5;241m>\u001B[39m \u001B[38;5;28mself\u001B[39m\u001B[38;5;241m.\u001B[39m_IterableDataset_len_called\n\u001B[1;32m    707\u001B[0m ):\n",
      "File \u001B[0;32m~/anaconda/envs/dl/lib/python3.11/site-packages/torch/utils/data/dataloader.py:757\u001B[0m, in \u001B[0;36m_SingleProcessDataLoaderIter._next_data\u001B[0;34m(self)\u001B[0m\n\u001B[1;32m    755\u001B[0m \u001B[38;5;28;01mdef\u001B[39;00m \u001B[38;5;21m_next_data\u001B[39m(\u001B[38;5;28mself\u001B[39m):\n\u001B[1;32m    756\u001B[0m     index \u001B[38;5;241m=\u001B[39m \u001B[38;5;28mself\u001B[39m\u001B[38;5;241m.\u001B[39m_next_index()  \u001B[38;5;66;03m# may raise StopIteration\u001B[39;00m\n\u001B[0;32m--> 757\u001B[0m     data \u001B[38;5;241m=\u001B[39m \u001B[38;5;28mself\u001B[39m\u001B[38;5;241m.\u001B[39m_dataset_fetcher\u001B[38;5;241m.\u001B[39mfetch(index)  \u001B[38;5;66;03m# may raise StopIteration\u001B[39;00m\n\u001B[1;32m    758\u001B[0m     \u001B[38;5;28;01mif\u001B[39;00m \u001B[38;5;28mself\u001B[39m\u001B[38;5;241m.\u001B[39m_pin_memory:\n\u001B[1;32m    759\u001B[0m         data \u001B[38;5;241m=\u001B[39m _utils\u001B[38;5;241m.\u001B[39mpin_memory\u001B[38;5;241m.\u001B[39mpin_memory(data, \u001B[38;5;28mself\u001B[39m\u001B[38;5;241m.\u001B[39m_pin_memory_device)\n",
      "File \u001B[0;32m~/anaconda/envs/dl/lib/python3.11/site-packages/torch/utils/data/_utils/fetch.py:52\u001B[0m, in \u001B[0;36m_MapDatasetFetcher.fetch\u001B[0;34m(self, possibly_batched_index)\u001B[0m\n\u001B[1;32m     50\u001B[0m         data \u001B[38;5;241m=\u001B[39m \u001B[38;5;28mself\u001B[39m\u001B[38;5;241m.\u001B[39mdataset\u001B[38;5;241m.\u001B[39m__getitems__(possibly_batched_index)\n\u001B[1;32m     51\u001B[0m     \u001B[38;5;28;01melse\u001B[39;00m:\n\u001B[0;32m---> 52\u001B[0m         data \u001B[38;5;241m=\u001B[39m [\u001B[38;5;28mself\u001B[39m\u001B[38;5;241m.\u001B[39mdataset[idx] \u001B[38;5;28;01mfor\u001B[39;00m idx \u001B[38;5;129;01min\u001B[39;00m possibly_batched_index]\n\u001B[1;32m     53\u001B[0m \u001B[38;5;28;01melse\u001B[39;00m:\n\u001B[1;32m     54\u001B[0m     data \u001B[38;5;241m=\u001B[39m \u001B[38;5;28mself\u001B[39m\u001B[38;5;241m.\u001B[39mdataset[possibly_batched_index]\n",
      "File \u001B[0;32m~/anaconda/envs/dl/lib/python3.11/site-packages/torch/utils/data/_utils/fetch.py:52\u001B[0m, in \u001B[0;36m<listcomp>\u001B[0;34m(.0)\u001B[0m\n\u001B[1;32m     50\u001B[0m         data \u001B[38;5;241m=\u001B[39m \u001B[38;5;28mself\u001B[39m\u001B[38;5;241m.\u001B[39mdataset\u001B[38;5;241m.\u001B[39m__getitems__(possibly_batched_index)\n\u001B[1;32m     51\u001B[0m     \u001B[38;5;28;01melse\u001B[39;00m:\n\u001B[0;32m---> 52\u001B[0m         data \u001B[38;5;241m=\u001B[39m [\u001B[38;5;28mself\u001B[39m\u001B[38;5;241m.\u001B[39mdataset[idx] \u001B[38;5;28;01mfor\u001B[39;00m idx \u001B[38;5;129;01min\u001B[39;00m possibly_batched_index]\n\u001B[1;32m     53\u001B[0m \u001B[38;5;28;01melse\u001B[39;00m:\n\u001B[1;32m     54\u001B[0m     data \u001B[38;5;241m=\u001B[39m \u001B[38;5;28mself\u001B[39m\u001B[38;5;241m.\u001B[39mdataset[possibly_batched_index]\n",
      "Cell \u001B[0;32mIn[1], line 35\u001B[0m, in \u001B[0;36mFontsDataset.__getitem__\u001B[0;34m(self, idx)\u001B[0m\n\u001B[1;32m     33\u001B[0m neg_font_id \u001B[38;5;241m=\u001B[39m random\u001B[38;5;241m.\u001B[39mrandint(\u001B[38;5;241m1\u001B[39m, \u001B[38;5;28mself\u001B[39m\u001B[38;5;241m.\u001B[39mfonts_random_step)\n\u001B[1;32m     34\u001B[0m neg_char \u001B[38;5;241m=\u001B[39m \u001B[38;5;28mself\u001B[39m\u001B[38;5;241m.\u001B[39mcharacters_set[random\u001B[38;5;241m.\u001B[39mrandint(\u001B[38;5;241m0\u001B[39m,\u001B[38;5;28mself\u001B[39m\u001B[38;5;241m.\u001B[39mchar_random_step)]\n\u001B[0;32m---> 35\u001B[0m anchor \u001B[38;5;241m=\u001B[39m \u001B[38;5;28mself\u001B[39m\u001B[38;5;241m.\u001B[39mdraw_char(\u001B[38;5;28mself\u001B[39m\u001B[38;5;241m.\u001B[39mfonts_path[font_id], char)\n\u001B[1;32m     36\u001B[0m pos \u001B[38;5;241m=\u001B[39m \u001B[38;5;28mself\u001B[39m\u001B[38;5;241m.\u001B[39mdraw_char(\u001B[38;5;28mself\u001B[39m\u001B[38;5;241m.\u001B[39mfonts_path[font_id], pos_char)\n\u001B[1;32m     37\u001B[0m neg \u001B[38;5;241m=\u001B[39m \u001B[38;5;28mself\u001B[39m\u001B[38;5;241m.\u001B[39mdraw_char(\u001B[38;5;28mself\u001B[39m\u001B[38;5;241m.\u001B[39mfonts_path[neg_font_id], neg_char)\n",
      "Cell \u001B[0;32mIn[1], line 22\u001B[0m, in \u001B[0;36mFontsDataset.draw_char\u001B[0;34m(self, font_path, char)\u001B[0m\n\u001B[1;32m     20\u001B[0m font \u001B[38;5;241m=\u001B[39m ImageFont\u001B[38;5;241m.\u001B[39mtruetype(font_path, \u001B[38;5;28mself\u001B[39m\u001B[38;5;241m.\u001B[39mimg_size[\u001B[38;5;241m1\u001B[39m]\u001B[38;5;241m/\u001B[39m\u001B[38;5;241m1.2\u001B[39m)\n\u001B[1;32m     21\u001B[0m \u001B[38;5;66;03m# center\u001B[39;00m\n\u001B[0;32m---> 22\u001B[0m _,_,w,h \u001B[38;5;241m=\u001B[39m font\u001B[38;5;241m.\u001B[39mgetbbox(char)\n\u001B[1;32m     23\u001B[0m draw\u001B[38;5;241m.\u001B[39mtext(((\u001B[38;5;28mself\u001B[39m\u001B[38;5;241m.\u001B[39mimg_size[\u001B[38;5;241m0\u001B[39m]\u001B[38;5;241m-\u001B[39mw)\u001B[38;5;241m/\u001B[39m\u001B[38;5;241m/\u001B[39m\u001B[38;5;241m2\u001B[39m,(\u001B[38;5;28mself\u001B[39m\u001B[38;5;241m.\u001B[39mimg_size[\u001B[38;5;241m1\u001B[39m]\u001B[38;5;241m-\u001B[39mh)\u001B[38;5;241m/\u001B[39m\u001B[38;5;241m/\u001B[39m\u001B[38;5;241m2\u001B[39m), char, font\u001B[38;5;241m=\u001B[39mfont, fill\u001B[38;5;241m=\u001B[39m\u001B[38;5;124m\"\u001B[39m\u001B[38;5;124mblack\u001B[39m\u001B[38;5;124m\"\u001B[39m)\n\u001B[1;32m     24\u001B[0m \u001B[38;5;28;01mreturn\u001B[39;00m img\n",
      "File \u001B[0;32m~/anaconda/envs/dl/lib/python3.11/site-packages/PIL/ImageFont.py:418\u001B[0m, in \u001B[0;36mFreeTypeFont.getbbox\u001B[0;34m(self, text, mode, direction, features, language, stroke_width, anchor)\u001B[0m\n\u001B[1;32m    369\u001B[0m \u001B[38;5;250m\u001B[39m\u001B[38;5;124;03m\"\"\"\u001B[39;00m\n\u001B[1;32m    370\u001B[0m \u001B[38;5;124;03mReturns bounding box (in pixels) of given text relative to given anchor\u001B[39;00m\n\u001B[1;32m    371\u001B[0m \u001B[38;5;124;03mwhen rendered in font with provided direction, features, and language.\u001B[39;00m\n\u001B[0;32m   (...)\u001B[0m\n\u001B[1;32m    415\u001B[0m \u001B[38;5;124;03m:return: ``(left, top, right, bottom)`` bounding box\u001B[39;00m\n\u001B[1;32m    416\u001B[0m \u001B[38;5;124;03m\"\"\"\u001B[39;00m\n\u001B[1;32m    417\u001B[0m _string_length_check(text)\n\u001B[0;32m--> 418\u001B[0m size, offset \u001B[38;5;241m=\u001B[39m \u001B[38;5;28mself\u001B[39m\u001B[38;5;241m.\u001B[39mfont\u001B[38;5;241m.\u001B[39mgetsize(\n\u001B[1;32m    419\u001B[0m     text, mode, direction, features, language, anchor\n\u001B[1;32m    420\u001B[0m )\n\u001B[1;32m    421\u001B[0m left, top \u001B[38;5;241m=\u001B[39m offset[\u001B[38;5;241m0\u001B[39m] \u001B[38;5;241m-\u001B[39m stroke_width, offset[\u001B[38;5;241m1\u001B[39m] \u001B[38;5;241m-\u001B[39m stroke_width\n\u001B[1;32m    422\u001B[0m width, height \u001B[38;5;241m=\u001B[39m size[\u001B[38;5;241m0\u001B[39m] \u001B[38;5;241m+\u001B[39m \u001B[38;5;241m2\u001B[39m \u001B[38;5;241m*\u001B[39m stroke_width, size[\u001B[38;5;241m1\u001B[39m] \u001B[38;5;241m+\u001B[39m \u001B[38;5;241m2\u001B[39m \u001B[38;5;241m*\u001B[39m stroke_width\n",
      "\u001B[0;31mOSError\u001B[0m: stack overflow"
     ]
    }
   ],
   "execution_count": 12
  }
 ],
 "metadata": {
  "kernelspec": {
   "display_name": "Python 3",
   "language": "python",
   "name": "python3"
  },
  "language_info": {
   "codemirror_mode": {
    "name": "ipython",
    "version": 2
   },
   "file_extension": ".py",
   "mimetype": "text/x-python",
   "name": "python",
   "nbconvert_exporter": "python",
   "pygments_lexer": "ipython2",
   "version": "2.7.6"
  }
 },
 "nbformat": 4,
 "nbformat_minor": 5
}
