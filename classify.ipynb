{
 "cells": [
  {
   "cell_type": "code",
   "id": "initial_id",
   "metadata": {
    "collapsed": true,
    "ExecuteTime": {
     "end_time": "2025-04-06T12:32:58.804369Z",
     "start_time": "2025-04-06T12:32:58.800873Z"
    }
   },
   "source": [
    "from transformers import SiglipVisionModel, SiglipVisionConfig, Trainer, TrainingArguments\n",
    "from torch.nn import functional as F\n",
    "from torch import nn\n",
    "from einops import rearrange\n",
    "import torch"
   ],
   "outputs": [],
   "execution_count": 6
  },
  {
   "metadata": {
    "ExecuteTime": {
     "end_time": "2025-04-06T12:32:58.861158Z",
     "start_time": "2025-04-06T12:32:58.851712Z"
    }
   },
   "cell_type": "code",
   "source": [
    "class TripletLoss(nn.Module):\n",
    "    def __init__(self, margin):\n",
    "        super(TripletLoss, self).__init__()\n",
    "        self.margin = margin\n",
    "\n",
    "    def forward(self, anchor, positive, negative):\n",
    "        # 计算距离\n",
    "        pos_dist = F.pairwise_distance(anchor, positive)\n",
    "        neg_dist = F.pairwise_distance(anchor, negative)\n",
    "        # Triplet Loss\n",
    "        loss = torch.mean(torch.relu(pos_dist - neg_dist + self.margin))\n",
    "        return loss\n",
    "\n",
    "class SiglipEecoder(nn.Module):\n",
    "    def __init__(self, config, device, margin):\n",
    "        super().__init__()\n",
    "        self.model = SiglipVisionModel(config=config).to(device)\n",
    "        self.device = device\n",
    "        self.lossfn = TripletLoss(margin)\n",
    "\n",
    "    def get_embedding(self, data):\n",
    "        data = data.to(self.device)\n",
    "        embs = self.model(data, return_dict=True).pooler_output\n",
    "        return embs\n",
    "\n",
    "    def forward(self, anchor, pos, neg):\n",
    "        data = torch.cat([anchor, pos, neg], dim=0).to(self.device)\n",
    "        embs = self.model(data, return_dict=True).pooler_output\n",
    "        anchor_emb, pos_emb, neg_emb = rearrange(embs, \"(n b) d -> n b d\", n=3).unbind(0)\n",
    "        if self.training:\n",
    "            loss = self.lossfn(anchor_emb, pos_emb, neg_emb)\n",
    "            return {\"loss\":loss}\n",
    "        else:\n",
    "            return {\"anchor_emb\":anchor_emb, \"pos_emb\":pos_emb, \"neg_emb\":neg_emb}"
   ],
   "id": "b37c6bb15fd62577",
   "outputs": [],
   "execution_count": 7
  },
  {
   "metadata": {
    "ExecuteTime": {
     "end_time": "2025-04-06T12:33:11.873609Z",
     "start_time": "2025-04-06T12:32:58.910128Z"
    }
   },
   "cell_type": "code",
   "source": [
    "from Utils.FontData import *\n",
    "from torchvision import transforms\n",
    "from torch.utils.data import DataLoader\n",
    "\n",
    "transformer = transforms.Compose([transforms.ToTensor()])\n",
    "\n",
    "def collate_fn(batch):\n",
    "    anchor, pos, neg = zip(*batch)\n",
    "    anchor = torch.stack([transformer(img) for img in anchor])\n",
    "    pos = torch.stack([transformer(img) for img in pos])\n",
    "    neg = torch.stack([transformer(img) for img in neg])\n",
    "    return {\"anchor\":anchor, \"pos\":pos, \"neg\":neg}\n",
    "\n",
    "fonts_root = \"/home/qba/Data/Project/DeepLearning/FontDream/data/font/中文\"\n",
    "char_set_path = \"/home/qba/Data/Project/DeepLearning/FontDream/data/common-char-level-1.txt\"\n",
    "data = FontsDataset(fonts_root, char_set_path,(64,64))\n",
    "dataloader = DataLoader(data, batch_size=4, shuffle=True, collate_fn=collate_fn)\n",
    "\n",
    "x = next(iter(dataloader))"
   ],
   "id": "70a69dd7cc9ddfed",
   "outputs": [],
   "execution_count": 8
  },
  {
   "metadata": {
    "ExecuteTime": {
     "end_time": "2025-04-06T12:33:11.969941Z",
     "start_time": "2025-04-06T12:33:11.892034Z"
    }
   },
   "cell_type": "code",
   "source": [
    "config = SiglipVisionConfig(\n",
    "    image_size=64,\n",
    "    num_hidden_layers=2,\n",
    "    num_attention_heads=4,\n",
    "    hidden_size=128,\n",
    "    intermediate_size=256,\n",
    "    hidden_act=\"gelu\",\n",
    "    hidden_dropout_prob=0.1,\n",
    "    attention_probs_dropout_prob=0.1,\n",
    "    num_channels=1)\n",
    "model = SiglipEecoder(config, \"cuda\", margin=0.2)\n",
    "\n",
    "training_args = TrainingArguments(learning_rate=3e-5,\n",
    "                                  weight_decay=0.01,\n",
    "                                  num_train_epochs=5,\n",
    "                                  logging_steps=500,\n",
    "                                  save_total_limit=3,\n",
    "                                  report_to=\"tensorboard\",\n",
    "                                  output_dir=\"./results\",\n",
    "                                  per_device_train_batch_size=4,\n",
    "                                  metric_for_best_model=\"loss\"\n",
    "                                  )\n",
    "trainer = Trainer(model=model,\n",
    "                  args=training_args,\n",
    "                  train_dataset=data,\n",
    "                  data_collator=collate_fn\n",
    "                  )"
   ],
   "id": "e70e6d247e966675",
   "outputs": [],
   "execution_count": 9
  },
  {
   "metadata": {
    "ExecuteTime": {
     "end_time": "2025-04-06T12:35:33.530346Z",
     "start_time": "2025-04-06T12:33:11.975894Z"
    }
   },
   "cell_type": "code",
   "source": "trainer.train()",
   "id": "7f0fcff0ea1b8a70",
   "outputs": [
    {
     "data": {
      "text/plain": [
       "<IPython.core.display.HTML object>"
      ],
      "text/html": [
       "\n",
       "    <div>\n",
       "      \n",
       "      <progress value='10000' max='10000' style='width:300px; height:20px; vertical-align: middle;'></progress>\n",
       "      [10000/10000 02:20, Epoch 0/1]\n",
       "    </div>\n",
       "    <table border=\"1\" class=\"dataframe\">\n",
       "  <thead>\n",
       " <tr style=\"text-align: left;\">\n",
       "      <th>Step</th>\n",
       "      <th>Training Loss</th>\n",
       "    </tr>\n",
       "  </thead>\n",
       "  <tbody>\n",
       "    <tr>\n",
       "      <td>500</td>\n",
       "      <td>0.143900</td>\n",
       "    </tr>\n",
       "    <tr>\n",
       "      <td>1000</td>\n",
       "      <td>0.102400</td>\n",
       "    </tr>\n",
       "    <tr>\n",
       "      <td>1500</td>\n",
       "      <td>0.090400</td>\n",
       "    </tr>\n",
       "    <tr>\n",
       "      <td>2000</td>\n",
       "      <td>0.090900</td>\n",
       "    </tr>\n",
       "    <tr>\n",
       "      <td>2500</td>\n",
       "      <td>0.090600</td>\n",
       "    </tr>\n",
       "    <tr>\n",
       "      <td>3000</td>\n",
       "      <td>0.088800</td>\n",
       "    </tr>\n",
       "    <tr>\n",
       "      <td>3500</td>\n",
       "      <td>0.080800</td>\n",
       "    </tr>\n",
       "    <tr>\n",
       "      <td>4000</td>\n",
       "      <td>0.075300</td>\n",
       "    </tr>\n",
       "    <tr>\n",
       "      <td>4500</td>\n",
       "      <td>0.080500</td>\n",
       "    </tr>\n",
       "    <tr>\n",
       "      <td>5000</td>\n",
       "      <td>0.073200</td>\n",
       "    </tr>\n",
       "    <tr>\n",
       "      <td>5500</td>\n",
       "      <td>0.071300</td>\n",
       "    </tr>\n",
       "    <tr>\n",
       "      <td>6000</td>\n",
       "      <td>0.070100</td>\n",
       "    </tr>\n",
       "    <tr>\n",
       "      <td>6500</td>\n",
       "      <td>0.067800</td>\n",
       "    </tr>\n",
       "    <tr>\n",
       "      <td>7000</td>\n",
       "      <td>0.071500</td>\n",
       "    </tr>\n",
       "    <tr>\n",
       "      <td>7500</td>\n",
       "      <td>0.062000</td>\n",
       "    </tr>\n",
       "    <tr>\n",
       "      <td>8000</td>\n",
       "      <td>0.063600</td>\n",
       "    </tr>\n",
       "    <tr>\n",
       "      <td>8500</td>\n",
       "      <td>0.066600</td>\n",
       "    </tr>\n",
       "    <tr>\n",
       "      <td>9000</td>\n",
       "      <td>0.060100</td>\n",
       "    </tr>\n",
       "    <tr>\n",
       "      <td>9500</td>\n",
       "      <td>0.059500</td>\n",
       "    </tr>\n",
       "    <tr>\n",
       "      <td>10000</td>\n",
       "      <td>0.061100</td>\n",
       "    </tr>\n",
       "  </tbody>\n",
       "</table><p>"
      ]
     },
     "metadata": {},
     "output_type": "display_data"
    },
    {
     "data": {
      "text/plain": [
       "TrainOutput(global_step=10000, training_loss=0.07852125129699707, metrics={'train_runtime': 140.8387, 'train_samples_per_second': 284.013, 'train_steps_per_second': 71.003, 'total_flos': 0.0, 'train_loss': 0.07852125129699707, 'epoch': 0.24096385542168675})"
      ]
     },
     "execution_count": 10,
     "metadata": {},
     "output_type": "execute_result"
    }
   ],
   "execution_count": 10
  },
  {
   "metadata": {
    "ExecuteTime": {
     "end_time": "2025-04-06T12:35:33.575031Z",
     "start_time": "2025-04-06T12:35:33.573340Z"
    }
   },
   "cell_type": "code",
   "source": "",
   "id": "93ee70484b3db910",
   "outputs": [],
   "execution_count": null
  }
 ],
 "metadata": {
  "kernelspec": {
   "display_name": "Python 3",
   "language": "python",
   "name": "python3"
  },
  "language_info": {
   "codemirror_mode": {
    "name": "ipython",
    "version": 2
   },
   "file_extension": ".py",
   "mimetype": "text/x-python",
   "name": "python",
   "nbconvert_exporter": "python",
   "pygments_lexer": "ipython2",
   "version": "2.7.6"
  }
 },
 "nbformat": 4,
 "nbformat_minor": 5
}
